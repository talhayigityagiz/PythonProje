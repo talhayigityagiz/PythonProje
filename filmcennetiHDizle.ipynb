{
 "cells": [
  {
   "cell_type": "code",
   "execution_count": 2,
   "metadata": {},
   "outputs": [
    {
     "name": "stdout",
     "output_type": "stream",
     "text": [
      "\n",
      "'action' türünde önerilen 5 film:\n",
      "Film: Top Gun: Maverick\n",
      "Süre:  Drama\" dakika\n",
      "Türler: \"Action, \n",
      "Yönetmen: {yonetmen}\n",
      "-------------------\n",
      "Film: Heat\n",
      "Süre:  Crime dakika\n",
      "Türler: \"Action, \n",
      "Yönetmen: {yonetmen}\n",
      "-------------------\n",
      "Film: Yojimbo\n",
      "Süre:  Drama dakika\n",
      "Türler: \"Action, \n",
      "Yönetmen: {yonetmen}\n",
      "-------------------\n",
      "Film: Rush\n",
      "Süre:  Biography dakika\n",
      "Türler: \"Action, \n",
      "Yönetmen: {yonetmen}\n",
      "-------------------\n",
      "Film: V for Vendetta\n",
      "Süre:  Drama dakika\n",
      "Türler: \"Action, \n",
      "Yönetmen: {yonetmen}\n",
      "-------------------\n"
     ]
    }
   ],
   "source": [
    "import random\n",
    "\n",
    "class FilmCenneti:\n",
    "    def __init__(self, data_file):\n",
    "        self.data_file = data_file\n",
    "\n",
    "    def film_oner(self, tur):\n",
    "        with open(self.data_file, \"r\") as f:\n",
    "            f.readline()\n",
    "            filmler = [line.strip().split(\",\") for line in f if tur.lower() in line.lower()]\n",
    "\n",
    "        if not filmler:\n",
    "            print(f\"Üzgünüm, '{tur}' türünde film bulunamadı.\")\n",
    "        else:\n",
    "            secilenFilmler = random.sample(filmler, min(len(filmler), 5))\n",
    "            print(f\"\\n'{tur}' türünde önerilen 5 film:\")\n",
    "            for film in secilenFilmler:\n",
    "                isim = film[0]\n",
    "                sure = film[2]\n",
    "                turler = film[1].split(\", \")\n",
    "                yonetmen = film[3]\n",
    "\n",
    "                print(f\"Film: {isim}\")\n",
    "                print(f\"Süre: {sure} dakika\")\n",
    "                print(\"Türler:\", end=\" \")\n",
    "                for genre in turler:\n",
    "                    print(genre, end=\", \")\n",
    "                print(\"\\nYönetmen: {yonetmen}\")\n",
    "                print(\"-------------------\")\n",
    "\n",
    "data_file = \"nadideparcalar.csv\"\n",
    "film_onerici = FilmCenneti(data_file)\n",
    "\n",
    "tur = input(\"Hangi türde film izlemek istersiniz? \")\n",
    "film_onerici.film_oner(tur)\n"
   ]
  }
 ],
 "metadata": {
  "kernelspec": {
   "display_name": "Python 3",
   "language": "python",
   "name": "python3"
  },
  "language_info": {
   "codemirror_mode": {
    "name": "ipython",
    "version": 3
   },
   "file_extension": ".py",
   "mimetype": "text/x-python",
   "name": "python",
   "nbconvert_exporter": "python",
   "pygments_lexer": "ipython3",
   "version": "3.10.11"
  },
  "orig_nbformat": 4
 },
 "nbformat": 4,
 "nbformat_minor": 2
}
